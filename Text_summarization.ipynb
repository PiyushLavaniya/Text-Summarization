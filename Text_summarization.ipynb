{
 "cells": [
  {
   "cell_type": "code",
   "execution_count": 16,
   "id": "e83e1f8f",
   "metadata": {},
   "outputs": [],
   "source": [
    "import numpy as np\n",
    "import pandas as pd\n",
    "import os\n",
    "\n",
    "import re\n",
    "import spacy\n",
    "\n",
    "import torch\n",
    "import json\n",
    "\n",
    "import nltk\n",
    "from nltk.tokenize import sent_tokenize\n",
    "\n",
    "from datasets import load_dataset\n",
    "\n",
    "from transformers import T5Tokenizer, T5ForConditionalGeneration, T5Config\n"
   ]
  },
  {
   "cell_type": "code",
   "execution_count": 17,
   "id": "9a7ef067",
   "metadata": {},
   "outputs": [
    {
     "name": "stdout",
     "output_type": "stream",
     "text": [
      "cnn_dailymail/test.csv\n",
      "cnn_dailymail/train.csv\n",
      "cnn_dailymail/validation.csv\n"
     ]
    }
   ],
   "source": [
    "for dirname, _, filenames in os.walk('cnn_dailymail/'):\n",
    "    for filename in filenames:\n",
    "        print(os.path.join(dirname, filename))"
   ]
  },
  {
   "cell_type": "code",
   "execution_count": 18,
   "id": "92c76da6",
   "metadata": {},
   "outputs": [],
   "source": [
    "TEST_FILE_PATH  = 'cnn_dailymail/test.csv'\n",
    "TRAIN_FILE_PATH = 'cnn_dailymail/train.csv'\n",
    "VALID_FILE_PATH = 'cnn_dailymail/validation.csv'"
   ]
  },
  {
   "cell_type": "code",
   "execution_count": 19,
   "id": "907f94fc",
   "metadata": {},
   "outputs": [],
   "source": [
    "train_df = pd.read_csv(TRAIN_FILE_PATH)\n",
    "test_df  = pd.read_csv(TEST_FILE_PATH)\n",
    "valid_df = pd.read_csv(VALID_FILE_PATH)"
   ]
  },
  {
   "cell_type": "code",
   "execution_count": 23,
   "id": "d8c148fd",
   "metadata": {},
   "outputs": [
    {
     "name": "stdout",
     "output_type": "stream",
     "text": [
      "train_df.shape: (287113, 3)\n",
      "test_df.shape: (11490, 3)\n",
      "valid_df.shape: (13368, 3)\n"
     ]
    }
   ],
   "source": [
    "print(f\"train_df.shape: {train_df.shape}\")\n",
    "print(f\"test_df.shape: {test_df.shape}\")\n",
    "print(f\"valid_df.shape: {valid_df.shape}\")"
   ]
  },
  {
   "cell_type": "code",
   "execution_count": 24,
   "id": "80d90757",
   "metadata": {},
   "outputs": [
    {
     "data": {
      "text/html": [
       "<div>\n",
       "<style scoped>\n",
       "    .dataframe tbody tr th:only-of-type {\n",
       "        vertical-align: middle;\n",
       "    }\n",
       "\n",
       "    .dataframe tbody tr th {\n",
       "        vertical-align: top;\n",
       "    }\n",
       "\n",
       "    .dataframe thead th {\n",
       "        text-align: right;\n",
       "    }\n",
       "</style>\n",
       "<table border=\"1\" class=\"dataframe\">\n",
       "  <thead>\n",
       "    <tr style=\"text-align: right;\">\n",
       "      <th></th>\n",
       "      <th>id</th>\n",
       "      <th>article</th>\n",
       "      <th>highlights</th>\n",
       "    </tr>\n",
       "  </thead>\n",
       "  <tbody>\n",
       "    <tr>\n",
       "      <th>0</th>\n",
       "      <td>0001d1afc246a7964130f43ae940af6bc6c57f01</td>\n",
       "      <td>By . Associated Press . PUBLISHED: . 14:11 EST...</td>\n",
       "      <td>Bishop John Folda, of North Dakota, is taking ...</td>\n",
       "    </tr>\n",
       "    <tr>\n",
       "      <th>1</th>\n",
       "      <td>0002095e55fcbd3a2f366d9bf92a95433dc305ef</td>\n",
       "      <td>(CNN) -- Ralph Mata was an internal affairs li...</td>\n",
       "      <td>Criminal complaint: Cop used his role to help ...</td>\n",
       "    </tr>\n",
       "    <tr>\n",
       "      <th>2</th>\n",
       "      <td>00027e965c8264c35cc1bc55556db388da82b07f</td>\n",
       "      <td>A drunk driver who killed a young woman in a h...</td>\n",
       "      <td>Craig Eccleston-Todd, 27, had drunk at least t...</td>\n",
       "    </tr>\n",
       "    <tr>\n",
       "      <th>3</th>\n",
       "      <td>0002c17436637c4fe1837c935c04de47adb18e9a</td>\n",
       "      <td>(CNN) -- With a breezy sweep of his pen Presid...</td>\n",
       "      <td>Nina dos Santos says Europe must be ready to a...</td>\n",
       "    </tr>\n",
       "    <tr>\n",
       "      <th>4</th>\n",
       "      <td>0003ad6ef0c37534f80b55b4235108024b407f0b</td>\n",
       "      <td>Fleetwood are the only team still to have a 10...</td>\n",
       "      <td>Fleetwood top of League One after 2-0 win at S...</td>\n",
       "    </tr>\n",
       "  </tbody>\n",
       "</table>\n",
       "</div>"
      ],
      "text/plain": [
       "                                         id  \\\n",
       "0  0001d1afc246a7964130f43ae940af6bc6c57f01   \n",
       "1  0002095e55fcbd3a2f366d9bf92a95433dc305ef   \n",
       "2  00027e965c8264c35cc1bc55556db388da82b07f   \n",
       "3  0002c17436637c4fe1837c935c04de47adb18e9a   \n",
       "4  0003ad6ef0c37534f80b55b4235108024b407f0b   \n",
       "\n",
       "                                             article  \\\n",
       "0  By . Associated Press . PUBLISHED: . 14:11 EST...   \n",
       "1  (CNN) -- Ralph Mata was an internal affairs li...   \n",
       "2  A drunk driver who killed a young woman in a h...   \n",
       "3  (CNN) -- With a breezy sweep of his pen Presid...   \n",
       "4  Fleetwood are the only team still to have a 10...   \n",
       "\n",
       "                                          highlights  \n",
       "0  Bishop John Folda, of North Dakota, is taking ...  \n",
       "1  Criminal complaint: Cop used his role to help ...  \n",
       "2  Craig Eccleston-Todd, 27, had drunk at least t...  \n",
       "3  Nina dos Santos says Europe must be ready to a...  \n",
       "4  Fleetwood top of League One after 2-0 win at S...  "
      ]
     },
     "execution_count": 24,
     "metadata": {},
     "output_type": "execute_result"
    }
   ],
   "source": [
    "train_df.head()"
   ]
  },
  {
   "cell_type": "code",
   "execution_count": 25,
   "id": "de2e5609",
   "metadata": {},
   "outputs": [
    {
     "data": {
      "text/plain": [
       "500"
      ]
     },
     "execution_count": 25,
     "metadata": {},
     "output_type": "execute_result"
    }
   ],
   "source": [
    "df = train_df\n",
    "df = df.article.dropna()\n",
    "df_articles = df.values.tolist()\n",
    "\n",
    "# Limit the length of df_articles to 500\n",
    "df_articles = df_articles[:500]\n",
    "\n",
    "len(df_articles)"
   ]
  },
  {
   "cell_type": "code",
   "execution_count": 26,
   "id": "00415022",
   "metadata": {},
   "outputs": [
    {
     "data": {
      "text/plain": [
       "0    By . Associated Press . PUBLISHED: . 14:11 EST...\n",
       "1    (CNN) -- Ralph Mata was an internal affairs li...\n",
       "2    A drunk driver who killed a young woman in a h...\n",
       "3    (CNN) -- With a breezy sweep of his pen Presid...\n",
       "4    Fleetwood are the only team still to have a 10...\n",
       "Name: article, dtype: object"
      ]
     },
     "execution_count": 26,
     "metadata": {},
     "output_type": "execute_result"
    }
   ],
   "source": [
    "df.head()"
   ]
  },
  {
   "cell_type": "code",
   "execution_count": 28,
   "id": "9a864787",
   "metadata": {},
   "outputs": [],
   "source": [
    "T5_PATH = 'Einmalumdiewelt/T5-Base_GNAD'\n",
    "t5_model = T5ForConditionalGeneration.from_pretrained(T5_PATH, output_past=True)\n",
    "t5_tokenizer = T5Tokenizer.from_pretrained(T5_PATH)\n",
    "x = t5_tokenizer(df_articles, truncation=True, max_length=500)"
   ]
  },
  {
   "cell_type": "code",
   "execution_count": 29,
   "id": "82b1ff04",
   "metadata": {},
   "outputs": [],
   "source": [
    "device = torch.device('cuda' if torch.cuda.is_available() else 'cpu')\n",
    "\n",
    "def t5_summarize(input_text, num_beams=4, num_words=80):\n",
    "    input_text = ' '.join(input_text.split())\n",
    "    input_tokenized = t5_tokenizer.encode(input_text, return_tensors=\"pt\").to(device)\n",
    "    summary_task = torch.tensor([[21603, 10]]).to(device)\n",
    "    input_tokenized = torch.cat([summary_task, input_tokenized], dim=-1).to(device)\n",
    "\n",
    "    # Move the model to the same device as input tensors\n",
    "    t5_model.to(device)\n",
    "\n",
    "    summary_ids = t5_model.generate(input_tokenized,\n",
    "                                    num_beams=int(num_beams),\n",
    "                                    no_repeat_ngram_size=3,\n",
    "                                    length_penalty=2.0,\n",
    "                                    min_length=30,\n",
    "                                    max_length=int(num_words),\n",
    "                                    early_stopping=True)\n",
    "\n",
    "    output = [t5_tokenizer.decode(g, skip_special_tokens=True, clean_up_tokenization_spaces=False) \n",
    "              for g in summary_ids]\n",
    "    return output[0]"
   ]
  },
  {
   "cell_type": "code",
   "execution_count": 11,
   "id": "5c1a037d",
   "metadata": {},
   "outputs": [
    {
     "name": "stdout",
     "output_type": "stream",
     "text": [
      "news articles  1  : \n",
      "\n"
     ]
    },
    {
     "name": "stderr",
     "output_type": "stream",
     "text": [
      "Token indices sequence length is longer than the specified maximum sequence length for this model (546 > 512). Running this sequence through the model will result in indexing errors\n"
     ]
    },
    {
     "name": "stdout",
     "output_type": "stream",
     "text": [
      "Bishop John Folda of the Fargo Catholic Diocese in North Dakota has been diagnosed with hepatitis A. The bishop is taking time off after being diagnosed through contaminated food.\n",
      "............................................................................\n",
      "\n",
      "\n",
      "\n",
      "\n",
      "news articles  2  : \n",
      "\n",
      "Ralph Mata, an internal affairs lieutenant for the Miami-Dade Police Department, is facing charges of aiding and abetting a conspiracy to distribute cocaine and engaging in monetary transactions in property derived from specified unlawful activity. The 45-year-old is scheduled to appear in federal court on Wednesday.\n",
      "............................................................................\n",
      "\n",
      "\n",
      "\n",
      "\n",
      "news articles  3  : \n",
      "\n",
      "Craig Eccleston-Todd, 27, was reading or replying to a text message when he veered across the road while driving round a bend and smashed into the car of Rachel Titley, 28. The solicitor's clerk died later from her injuries.\n",
      "............................................................................\n",
      "\n",
      "\n",
      "\n",
      "\n",
      "news articles  4  : \n",
      "\n",
      "Russia's business community is essentially two sides of the coin, so Europe is facing urgent calls to broaden the scope of its sanctions against the country. But the EU must be ready for the consequences.\n",
      "............................................................................\n",
      "\n",
      "\n",
      "\n",
      "\n",
      "news articles  5  : \n",
      "\n",
      "Fleetwood beat Scunthorpe 2-0, Sheffield United beat Posh 2-1, Rochdale beat Crewe 2-1 and Notts County beat Colchester 2-1. Gillingham and Swindon drew 2-2.\n",
      "............................................................................\n",
      "\n",
      "\n",
      "\n",
      "\n",
      "news articles  6  : \n",
      "\n",
      "Prime Minister David Cameron is on holiday in the Canary Islands with his family. Yesterday he was seen in the same pair of beige loafers he wore on holiday last year.\n",
      "............................................................................\n",
      "\n",
      "\n",
      "\n",
      "\n",
      "Wall time: 2min 1s\n"
     ]
    }
   ],
   "source": [
    "%%time\n",
    "for i in range(6):\n",
    "    \n",
    "        print('news articles ',i + 1, \" : \\n\" )\n",
    "        print(t5_summarize(df_articles[i]))\n",
    "        print('............................................................................\\n\\n\\n\\n')"
   ]
  },
  {
   "cell_type": "code",
   "execution_count": 40,
   "id": "0e93ed25",
   "metadata": {},
   "outputs": [
    {
     "name": "stdout",
     "output_type": "stream",
     "text": [
      "Enter the text to summarize: The first Batman story, \"The Case of the Chemical Syndicate\", was published in Detective Comics #27 (cover dated May 1939). It was inspired, some say plagiarized, by the 60 page story “Partners of Peril” in The Shadow #113, which was written by Theodore Tinsley and illustrated by Tom Lovell.[21] Finger said, \"Batman was originally written in the style of the pulps\",[22] and this influence was evident with Batman showing little remorse over killing or maiming criminals. Batman proved a hit character, and he received his own solo title in 1940 while continuing to star in Detective Comics. By that time, Detective Comics was the top-selling and most influential publisher in the industry; Batman and the company's other major hero, Superman, were the cornerstones of the company's success.[23] The two characters were featured side by side as the stars of World's Finest Comics, which was originally titled World's Best Comics when it debuted in fall 1940. Creators including Jerry Robinson and Dick Sprang also worked on the strips during this period.  Over the course of the first few Batman strips elements were added to the character and the artistic depiction of Batman evolved. Kane noted that within six issues he drew the character's jawline more pronounced, and lengthened the ears on the costume. \"About a year later he was almost the full figure, my mature Batman\", Kane said.[24] Batman's characteristic utility belt was introduced in Detective Comics #29 (July 1939), followed by the boomerang-like batarang and the first bat-themed vehicle, the Batplane, in #31 (September 1939). The character's origin was revealed in #33 (November 1939), unfolding in a two-page story that establishes the brooding persona of Batman, a character driven by the death of his parents. Written by Finger, it depicts a young Bruce Wayne witnessing his parents' murder at the hands of a mugger. Days later, at their grave, the child vows that \"by the spirits of my parents [I will] avenge their deaths by spending the rest of my life warring on all criminals\".[25][26][27]  The early, pulp-inflected portrayal of Batman started to soften in Detective Comics #38 (April 1940) with the introduction of Robin, Batman's junior counterpart.[28] Robin was introduced, based on Finger's suggestion, because Batman needed a \"Watson\" with whom Batman could talk.[29] Sales nearly doubled, despite Kane's preference for a solo Batman, and it sparked a proliferation of \"kid sidekicks\".[30] The first issue of the solo spin-off series Batman was notable not only for introducing two of his most persistent enemies, the Joker and Catwoman, but for a pre-Robin inventory story, originally meant for Detective Comics #38, in which Batman shoots some monstrous giants to death.[31][32] That story prompted editor Whitney Ellsworth to decree that the character could no longer kill or use a gun.[33]  By 1942, the writers and artists behind the Batman comics had established most of the basic elements of the Batman mythos.[34] In the years following World War II, DC Comics \"adopted a postwar editorial direction that increasingly de-emphasized social commentary in favor of lighthearted juvenile fantasy\". The impact of this editorial approach was evident in Batman comics of the postwar period; removed from the \"bleak and menacing world\" of the strips of the early 1940s, Batman was instead portrayed as a respectable citizen and paternal figure that inhabited a \"bright and colorful\" environment.\n",
      "\n",
      "Summary:\n",
      "In the early 1940s, Batman was portrayed as a character driven by the death of his parents. The comics company Detective Comics was one of the most influential publishers in the industry. Now, the character has been renamed \"Batman\".\n"
     ]
    }
   ],
   "source": [
    "def summarize_text(text):\n",
    "    # Generate summary using the T5 model\n",
    "    summary = t5_summarize(text)\n",
    "    \n",
    "    # Show the generated summary\n",
    "    print(\"\\nSummary:\")\n",
    "    print(summary)\n",
    "\n",
    "# Prompt the user for input and generate summary\n",
    "user_input = input(\"Enter the text to summarize: \")\n",
    "summarize_text(user_input)"
   ]
  },
  {
   "cell_type": "code",
   "execution_count": 33,
   "id": "44284739",
   "metadata": {},
   "outputs": [],
   "source": [
    "from transformers import BartForConditionalGeneration, BartConfig, BartTokenizer"
   ]
  },
  {
   "cell_type": "code",
   "execution_count": 34,
   "id": "b070ddc5",
   "metadata": {},
   "outputs": [],
   "source": [
    "bart_PATH = 'facebook/bart-large-cnn'\n",
    "bart_model = BartForConditionalGeneration.from_pretrained(bart_PATH, output_past=True)\n",
    "bart_tokenizer = BartTokenizer.from_pretrained(bart_PATH)\n",
    "x = bart_tokenizer(df_articles, truncation=True, max_length=500)"
   ]
  },
  {
   "cell_type": "code",
   "execution_count": 35,
   "id": "0332d942",
   "metadata": {},
   "outputs": [],
   "source": [
    "def bart_summarize(input_text, num_beams=4, num_words=80):\n",
    "    input_text = str(input_text)\n",
    "    input_text = ' '.join(input_text.split())\n",
    "    input_tokenized = bart_tokenizer.encode(input_text, return_tensors='pt')\n",
    "    summary_ids = bart_model.generate(input_tokenized,\n",
    "                                      num_beams=int(num_beams),\n",
    "                                      no_repeat_ngram_size=3,\n",
    "                                      length_penalty=2.0,\n",
    "                                      min_length=80,\n",
    "                                      max_length=int(num_words),\n",
    "                                      early_stopping = False)\n",
    "    output = [bart_tokenizer.decode(g, skip_special_tokens=True, clean_up_tokenization_spaces=False) for g in summary_ids]\n",
    "    return output[0]"
   ]
  },
  {
   "cell_type": "code",
   "execution_count": 16,
   "id": "8f7f2164",
   "metadata": {},
   "outputs": [
    {
     "name": "stdout",
     "output_type": "stream",
     "text": [
      "news article  1  : \n",
      "\n",
      "Bishop John Folda of the Fargo Catholic Diocese in North Dakota has exposed potentially hundreds of church members in Fargo, Grand Forks and Jamestown to the hepatitis A. The state Health Department has issued an advisory of exposure for anyone who attended five churches and took communion in late September and early October. The diocese announced on Monday that Bishop Folda is taking time off after\n",
      "............................................................................\n",
      "\n",
      "\n",
      "\n",
      "\n",
      "news article  2  : \n",
      "\n",
      "Ralph Mata, 45, was an internal affairs lieutenant for the Miami-Dade Police Department. Authorities allege he worked with a drug trafficking organization to help plan a murder plot. The complaint also alleges that Mata used his police badge to purchase weapons for drug traffickers. Mata faces charges of aiding and abetting a conspiracy to distribute cocaine, among other things. He is scheduled to appear in\n",
      "............................................................................\n",
      "\n",
      "\n",
      "\n",
      "\n",
      "Wall time: 47.7 s\n"
     ]
    }
   ],
   "source": [
    "%%time\n",
    "for i in range(2):\n",
    "    \n",
    "        print('news article ',i + 1, \" : \\n\" )\n",
    "        print(bart_summarize(df_articles[i]))\n",
    "        print('............................................................................\\n\\n\\n\\n')"
   ]
  },
  {
   "cell_type": "code",
   "execution_count": 41,
   "id": "1c802bef",
   "metadata": {},
   "outputs": [
    {
     "name": "stdout",
     "output_type": "stream",
     "text": [
      "Enter the text to summarize: The first Batman story, \"The Case of the Chemical Syndicate\", was published in Detective Comics #27 (cover dated May 1939). It was inspired, some say plagiarized, by the 60 page story “Partners of Peril” in The Shadow #113, which was written by Theodore Tinsley and illustrated by Tom Lovell.[21] Finger said, \"Batman was originally written in the style of the pulps\",[22] and this influence was evident with Batman showing little remorse over killing or maiming criminals. Batman proved a hit character, and he received his own solo title in 1940 while continuing to star in Detective Comics. By that time, Detective Comics was the top-selling and most influential publisher in the industry; Batman and the company's other major hero, Superman, were the cornerstones of the company's success.[23] The two characters were featured side by side as the stars of World's Finest Comics, which was originally titled World's Best Comics when it debuted in fall 1940. Creators including Jerry Robinson and Dick Sprang also worked on the strips during this period.  Over the course of the first few Batman strips elements were added to the character and the artistic depiction of Batman evolved. Kane noted that within six issues he drew the character's jawline more pronounced, and lengthened the ears on the costume. \"About a year later he was almost the full figure, my mature Batman\", Kane said.[24] Batman's characteristic utility belt was introduced in Detective Comics #29 (July 1939), followed by the boomerang-like batarang and the first bat-themed vehicle, the Batplane, in #31 (September 1939). The character's origin was revealed in #33 (November 1939), unfolding in a two-page story that establishes the brooding persona of Batman, a character driven by the death of his parents. Written by Finger, it depicts a young Bruce Wayne witnessing his parents' murder at the hands of a mugger. Days later, at their grave, the child vows that \"by the spirits of my parents [I will] avenge their deaths by spending the rest of my life warring on all criminals\".[25][26][27]  The early, pulp-inflected portrayal of Batman started to soften in Detective Comics #38 (April 1940) with the introduction of Robin, Batman's junior counterpart.[28] Robin was introduced, based on Finger's suggestion, because Batman needed a \"Watson\" with whom Batman could talk.[29] Sales nearly doubled, despite Kane's preference for a solo Batman, and it sparked a proliferation of \"kid sidekicks\".[30] The first issue of the solo spin-off series Batman was notable not only for introducing two of his most persistent enemies, the Joker and Catwoman, but for a pre-Robin inventory story, originally meant for Detective Comics #38, in which Batman shoots some monstrous giants to death.[31][32] That story prompted editor Whitney Ellsworth to decree that the character could no longer kill or use a gun.[33]  By 1942, the writers and artists behind the Batman comics had established most of the basic elements of the Batman mythos.[34] In the years following World War II, DC Comics \"adopted a postwar editorial direction that increasingly de-emphasized social commentary in favor of lighthearted juvenile fantasy\". The impact of this editorial approach was evident in Batman comics of the postwar period; removed from the \"bleak and menacing world\" of the strips of the early 1940s, Batman was instead portrayed as a respectable citizen and paternal figure that inhabited a \"bright and colorful\" environment.\n",
      "\n",
      "Summary:\n",
      "The first Batman story, \"The Case of the Chemical Syndicate\", was published in Detective Comics #27 (cover dated May 1939). It was inspired, some say plagiarized, by the 60 page story “Partners of Peril” in The Shadow #113. Over the course of the first few Batman strips elements were added to the character and the artistic depiction of Batman evolved\n"
     ]
    }
   ],
   "source": [
    "def summarize_text(text):\n",
    "    # Generate summary using the bart model\n",
    "    summary = bart_summarize(text)\n",
    "    \n",
    "    # Show the generated summary\n",
    "    print(\"\\nSummary:\")\n",
    "    print(summary)\n",
    "\n",
    "# Prompt the user for input and generate summary\n",
    "user_input = input(\"Enter the text to summarize: \")\n",
    "summarize_text(user_input)"
   ]
  },
  {
   "cell_type": "code",
   "execution_count": 1,
   "id": "cd407239",
   "metadata": {},
   "outputs": [],
   "source": [
    "from transformers import PegasusForConditionalGeneration, PegasusTokenizer"
   ]
  },
  {
   "cell_type": "code",
   "execution_count": 2,
   "id": "d9a887af",
   "metadata": {},
   "outputs": [
    {
     "data": {
      "application/vnd.jupyter.widget-view+json": {
       "model_id": "517dd9e015df437dbb0765ff6957d677",
       "version_major": 2,
       "version_minor": 0
      },
      "text/plain": [
       "Downloading (…)neration_config.json:   0%|          | 0.00/259 [00:00<?, ?B/s]"
      ]
     },
     "metadata": {},
     "output_type": "display_data"
    },
    {
     "name": "stderr",
     "output_type": "stream",
     "text": [
      "D:\\PIYUSH_LAVANIYA_CMD\\Text Summarization\\textsummary\\lib\\site-packages\\huggingface_hub\\file_download.py:133: UserWarning: `huggingface_hub` cache-system uses symlinks by default to efficiently store duplicated files but your machine does not support them in C:\\Users\\om\\.cache\\huggingface\\hub. Caching files will still work but in a degraded version that might require more space on your disk. This warning can be disabled by setting the `HF_HUB_DISABLE_SYMLINKS_WARNING` environment variable. For more details, see https://huggingface.co/docs/huggingface_hub/how-to-cache#limitations.\n",
      "To support symlinks on Windows, you either need to activate Developer Mode or to run Python as an administrator. In order to see activate developer mode, see this article: https://docs.microsoft.com/en-us/windows/apps/get-started/enable-your-device-for-development\n",
      "  warnings.warn(message)\n"
     ]
    },
    {
     "data": {
      "application/vnd.jupyter.widget-view+json": {
       "model_id": "6aff04a25f10458aa671810494a97fac",
       "version_major": 2,
       "version_minor": 0
      },
      "text/plain": [
       "Downloading (…)ve/main/spiece.model:   0%|          | 0.00/1.91M [00:00<?, ?B/s]"
      ]
     },
     "metadata": {},
     "output_type": "display_data"
    },
    {
     "data": {
      "application/vnd.jupyter.widget-view+json": {
       "model_id": "b1b5327b88884c16ae33e19fee460a1a",
       "version_major": 2,
       "version_minor": 0
      },
      "text/plain": [
       "Downloading (…)cial_tokens_map.json:   0%|          | 0.00/65.0 [00:00<?, ?B/s]"
      ]
     },
     "metadata": {},
     "output_type": "display_data"
    },
    {
     "data": {
      "application/vnd.jupyter.widget-view+json": {
       "model_id": "4a89a6c320c74634b505249e05cfd23e",
       "version_major": 2,
       "version_minor": 0
      },
      "text/plain": [
       "Downloading (…)okenizer_config.json:   0%|          | 0.00/87.0 [00:00<?, ?B/s]"
      ]
     },
     "metadata": {},
     "output_type": "display_data"
    }
   ],
   "source": [
    "model = PegasusForConditionalGeneration.from_pretrained(\"google/pegasus-xsum\")\n",
    "tokenizer = PegasusTokenizer.from_pretrained(\"google/pegasus-xsum\")"
   ]
  },
  {
   "cell_type": "code",
   "execution_count": 9,
   "id": "7da5ea85",
   "metadata": {},
   "outputs": [],
   "source": [
    "text = \"\"\"\n",
    "The first Batman story, \"The Case of the Chemical Syndicate\", was published in Detective Comics #27 (cover dated May 1939). It was inspired, some say plagiarized, by the 60 page story “Partners of Peril” in The Shadow #113, which was written by Theodore Tinsley and illustrated by Tom Lovell.[21] Finger said, \"Batman was originally written in the style of the pulps\",[22] and this influence was evident with Batman showing little remorse over killing or maiming criminals. Batman proved a hit character, and he received his own solo title in 1940 while continuing to star in Detective Comics. By that time, Detective Comics was the top-selling and most influential publisher in the industry; Batman and the company's other major hero, Superman, were the cornerstones of the company's success.[23] The two characters were featured side by side as the stars of World's Finest Comics, which was originally titled World's Best Comics when it debuted in fall 1940. Creators including Jerry Robinson and Dick Sprang also worked on the strips during this period.  Over the course of the first few Batman strips elements were added to the character and the artistic depiction of Batman evolved. Kane noted that within six issues he drew the character's jawline more pronounced, and lengthened the ears on the costume. \"About a year later he was almost the full figure, my mature Batman\", Kane said.[24] Batman's characteristic utility belt was introduced in Detective Comics #29 (July 1939), followed by the boomerang-like batarang and the first bat-themed vehicle, the Batplane, in #31 (September 1939). The character's origin was revealed in #33 (November 1939), unfolding in a two-page story that establishes the brooding persona of Batman, a character driven by the death of his parents. Written by Finger, it depicts a young Bruce Wayne witnessing his parents' murder at the hands of a mugger. Days later, at their grave, the child vows that \"by the spirits of my parents [I will] avenge their deaths by spending the rest of my life warring on all criminals\".[25][26][27]  The early, pulp-inflected portrayal of Batman started to soften in Detective Comics #38 (April 1940) with the introduction of Robin, Batman's junior counterpart.[28] Robin was introduced, based on Finger's suggestion, because Batman needed a \"Watson\" with whom Batman could talk.[29] Sales nearly doubled, despite Kane's preference for a solo Batman, and it sparked a proliferation of \"kid sidekicks\".[30] The first issue of the solo spin-off series Batman was notable not only for introducing two of his most persistent enemies, the Joker and Catwoman, but for a pre-Robin inventory story, originally meant for Detective Comics #38, in which Batman shoots some monstrous giants to death.[31][32] That story prompted editor Whitney Ellsworth to decree that the character could no longer kill or use a gun.[33]  By 1942, the writers and artists behind the Batman comics had established most of the basic elements of the Batman mythos.[34] In the years following World War II, DC Comics \"adopted a postwar editorial direction that increasingly de-emphasized social commentary in favor of lighthearted juvenile fantasy\". The impact of this editorial approach was evident in Batman comics of the postwar period; removed from the \"bleak and menacing world\" of the strips of the early 1940s, Batman was instead portrayed as a respectable citizen and paternal figure that inhabited a \"bright and colorful\" environment.\"\"\""
   ]
  },
  {
   "cell_type": "code",
   "execution_count": 10,
   "id": "4c291585",
   "metadata": {},
   "outputs": [],
   "source": [
    "tokens = tokenizer(text, truncation = True, padding = \"longest\", return_tensors = \"pt\")"
   ]
  },
  {
   "cell_type": "code",
   "execution_count": 11,
   "id": "220cff33",
   "metadata": {},
   "outputs": [
    {
     "data": {
      "text/plain": [
       "{'input_ids': tensor([[  139,   211, 12137,   584,   108,   198,   159,  6174,   113,   109,\n",
       "         12385, 52186,   194,   108,   140,  1299,   115, 19886, 16908,  1768,\n",
       "          9613,   143, 20473,  8922,   913, 23259,   250,   168,   140,  2261,\n",
       "           108,   181,   416, 68033,   108,   141,   109,  1790,   438,   584,\n",
       "           185, 59237,   113,  4957,  4935,   227,   115,   139, 12862,  5635,\n",
       "          5517,   108,   162,   140,  1158,   141, 32532, 13431, 14364,   111,\n",
       "          9789,   141,  3227, 62197,   107,  4101,  7090,  1100, 25071,   243,\n",
       "           108,   198, 67271,   140,  3273,  1158,   115,   109,   669,   113,\n",
       "           109, 15052,   116,   194,   108,  4101,  8101,  1100,   111,   136,\n",
       "          2581,   140,  8583,   122, 12137,  1986,   332, 40215,   204,  5730,\n",
       "           132, 38294, 12582, 14863,   107, 12137,  5343,   114,  1194,  1510,\n",
       "           108,   111,   178,   915,   169,   282,  4760,  1560,   115, 11324,\n",
       "           277,  3712,   112,  2187,   115, 19886, 16908,   107,  1060,   120,\n",
       "           166,   108, 19886, 16908,   140,   109,   349,   121, 10346,   111,\n",
       "           205,  9112,  7876,   115,   109,   503,   206, 12137,   111,   109,\n",
       "           301,   131,   116,   176,   698,  6555,   108, 19589,   108,   195,\n",
       "           109, 19980,   116,   113,   109,   301,   131,   116,   924,   107,\n",
       "          4101,  8791,  1100,   139,   228,  1918,   195,  2655,   477,   141,\n",
       "           477,   130,   109,  3061,   113,   894,   131,   116, 43861, 16908,\n",
       "           108,   162,   140,  3273,  6486,   894,   131,   116,  1438, 16908,\n",
       "           173,   126, 18206,   115,  1251, 11324,   107, 62198,   330, 10508,\n",
       "          9845,   111, 64383, 54295,  4652,   163,   947,   124,   109,  8765,\n",
       "           333,   136,   908,   107,  2339,   109,   422,   113,   109,   211,\n",
       "           324, 12137,  8765,  1811,   195,   717,   112,   109,  1510,   111,\n",
       "           109,  4928, 29249,   113, 12137,  7627,   107, 18337,  3151,   120,\n",
       "           373,  1029,   618,   178,  8336,   109,  1510,   131,   116, 73626,\n",
       "           154, 13731,   108,   111, 74720,   109,  6640,   124,   109,  7101,\n",
       "           107,   198,  7341,   114,   232,   678,   178,   140,   744,   109,\n",
       "           357,  1868,   108,   161,  6444, 12137,   194,   108, 18337,   243,\n",
       "           107,  4101,  6304,  1100, 12137,   131,   116,  9506,  3826,  4557,\n",
       "           140,  2454,   115, 19886, 16908,  1768, 10340,   143, 13491, 23259,\n",
       "           312,  1734,   141,   109, 80677,   121,  2134,  9123, 78427,   111,\n",
       "           109,   211,  9123,   121, 14017,  1143,   108,   109, 11027, 21554,\n",
       "           108,   115, 14141,   740,   143, 15106, 23259,   250,   139,  1510,\n",
       "           131,   116,  5679,   140,  3264,   115, 14141,   726,   143, 15486,\n",
       "         23259,   312, 26230,   115,   114,   228,   121,  6609,   584,   120,\n",
       "         19919,   109, 54448, 20251,   113, 12137,   108,   114,  1510,  3830,\n",
       "           141,   109,  1323,   113,   169,  1119,   107, 16550,   141, 25071,\n",
       "           108,   126, 18412,   114,   758,  8074,  8681, 21873,   169,  1119,\n",
       "           131,  5939,   134,   109,  1233,   113,   114, 11462,  6867,   107,\n",
       "          7678,   678,   108,   134,   153, 11537,   108,   109,   667, 24075,\n",
       "           120,   198,  1846,   109,  9095,   113,   161,  1119,  1126,   187,\n",
       "           138,  1100, 55151,   153,  6996,   141,  2027,   109,  1004,   113,\n",
       "           161,   271, 60544,   124,   149, 14863,  2302,  4101,  5247, 32887,\n",
       "          9965, 32887,  9613,  1100,   139,   616,   108, 15052,   121, 50596,\n",
       "         29244,   316, 23447,   113, 12137,   547,   112, 17837,   115, 19886,\n",
       "         16908,  1768, 12166,   143, 10908, 11324,   158,   122,   109,  3709,\n",
       "           113,  9197,   108, 12137,   131,   116,  6222, 18160,   107,  4101,\n",
       "          9169,  1100,  9197,   140,  2454,   108,   451,   124, 25071,   131,\n",
       "           116,  7832,   108,   262, 12137,   690,   114,   198, 71530,   194,\n",
       "           122,  2901, 12137,   256,  1002,   107,  4101, 10340,  1100,  4458,\n",
       "          1517,     1]]), 'attention_mask': tensor([[1, 1, 1, 1, 1, 1, 1, 1, 1, 1, 1, 1, 1, 1, 1, 1, 1, 1, 1, 1, 1, 1, 1, 1,\n",
       "         1, 1, 1, 1, 1, 1, 1, 1, 1, 1, 1, 1, 1, 1, 1, 1, 1, 1, 1, 1, 1, 1, 1, 1,\n",
       "         1, 1, 1, 1, 1, 1, 1, 1, 1, 1, 1, 1, 1, 1, 1, 1, 1, 1, 1, 1, 1, 1, 1, 1,\n",
       "         1, 1, 1, 1, 1, 1, 1, 1, 1, 1, 1, 1, 1, 1, 1, 1, 1, 1, 1, 1, 1, 1, 1, 1,\n",
       "         1, 1, 1, 1, 1, 1, 1, 1, 1, 1, 1, 1, 1, 1, 1, 1, 1, 1, 1, 1, 1, 1, 1, 1,\n",
       "         1, 1, 1, 1, 1, 1, 1, 1, 1, 1, 1, 1, 1, 1, 1, 1, 1, 1, 1, 1, 1, 1, 1, 1,\n",
       "         1, 1, 1, 1, 1, 1, 1, 1, 1, 1, 1, 1, 1, 1, 1, 1, 1, 1, 1, 1, 1, 1, 1, 1,\n",
       "         1, 1, 1, 1, 1, 1, 1, 1, 1, 1, 1, 1, 1, 1, 1, 1, 1, 1, 1, 1, 1, 1, 1, 1,\n",
       "         1, 1, 1, 1, 1, 1, 1, 1, 1, 1, 1, 1, 1, 1, 1, 1, 1, 1, 1, 1, 1, 1, 1, 1,\n",
       "         1, 1, 1, 1, 1, 1, 1, 1, 1, 1, 1, 1, 1, 1, 1, 1, 1, 1, 1, 1, 1, 1, 1, 1,\n",
       "         1, 1, 1, 1, 1, 1, 1, 1, 1, 1, 1, 1, 1, 1, 1, 1, 1, 1, 1, 1, 1, 1, 1, 1,\n",
       "         1, 1, 1, 1, 1, 1, 1, 1, 1, 1, 1, 1, 1, 1, 1, 1, 1, 1, 1, 1, 1, 1, 1, 1,\n",
       "         1, 1, 1, 1, 1, 1, 1, 1, 1, 1, 1, 1, 1, 1, 1, 1, 1, 1, 1, 1, 1, 1, 1, 1,\n",
       "         1, 1, 1, 1, 1, 1, 1, 1, 1, 1, 1, 1, 1, 1, 1, 1, 1, 1, 1, 1, 1, 1, 1, 1,\n",
       "         1, 1, 1, 1, 1, 1, 1, 1, 1, 1, 1, 1, 1, 1, 1, 1, 1, 1, 1, 1, 1, 1, 1, 1,\n",
       "         1, 1, 1, 1, 1, 1, 1, 1, 1, 1, 1, 1, 1, 1, 1, 1, 1, 1, 1, 1, 1, 1, 1, 1,\n",
       "         1, 1, 1, 1, 1, 1, 1, 1, 1, 1, 1, 1, 1, 1, 1, 1, 1, 1, 1, 1, 1, 1, 1, 1,\n",
       "         1, 1, 1, 1, 1, 1, 1, 1, 1, 1, 1, 1, 1, 1, 1, 1, 1, 1, 1, 1, 1, 1, 1, 1,\n",
       "         1, 1, 1, 1, 1, 1, 1, 1, 1, 1, 1, 1, 1, 1, 1, 1, 1, 1, 1, 1, 1, 1, 1, 1,\n",
       "         1, 1, 1, 1, 1, 1, 1, 1, 1, 1, 1, 1, 1, 1, 1, 1, 1, 1, 1, 1, 1, 1, 1, 1,\n",
       "         1, 1, 1, 1, 1, 1, 1, 1, 1, 1, 1, 1, 1, 1, 1, 1, 1, 1, 1, 1, 1, 1, 1, 1,\n",
       "         1, 1, 1, 1, 1, 1, 1, 1]])}"
      ]
     },
     "execution_count": 11,
     "metadata": {},
     "output_type": "execute_result"
    }
   ],
   "source": [
    "tokens"
   ]
  },
  {
   "cell_type": "code",
   "execution_count": 12,
   "id": "af33018b",
   "metadata": {},
   "outputs": [],
   "source": [
    "summary = model.generate(**tokens)"
   ]
  },
  {
   "cell_type": "code",
   "execution_count": 13,
   "id": "0db5d32d",
   "metadata": {},
   "outputs": [
    {
     "data": {
      "text/plain": [
       "tensor([    0, 12137,   211,  2893,   115, 19886, 16908,   115, 23259,   107,\n",
       "            1])"
      ]
     },
     "execution_count": 13,
     "metadata": {},
     "output_type": "execute_result"
    }
   ],
   "source": [
    "summary[0]"
   ]
  },
  {
   "cell_type": "code",
   "execution_count": 14,
   "id": "b241efd6",
   "metadata": {},
   "outputs": [
    {
     "data": {
      "text/plain": [
       "'<pad>Batman first appeared in Detective Comics in 1939.</s>'"
      ]
     },
     "execution_count": 14,
     "metadata": {},
     "output_type": "execute_result"
    }
   ],
   "source": [
    "tokenizer.decode(summary[0])"
   ]
  },
  {
   "cell_type": "code",
   "execution_count": 52,
   "id": "424d6baa",
   "metadata": {},
   "outputs": [
    {
     "name": "stderr",
     "output_type": "stream",
     "text": [
      "[nltk_data] Downloading package punkt to\n",
      "[nltk_data]     C:\\Users\\om\\AppData\\Roaming\\nltk_data...\n",
      "[nltk_data]   Package punkt is already up-to-date!\n"
     ]
    },
    {
     "data": {
      "text/plain": [
       "True"
      ]
     },
     "execution_count": 52,
     "metadata": {},
     "output_type": "execute_result"
    }
   ],
   "source": [
    "from transformers import pipeline, set_seed\n",
    "import nltk\n",
    "from nltk.tokenize import sent_tokenize\n",
    "\n",
    "nltk.download(\"punkt\")"
   ]
  },
  {
   "cell_type": "code",
   "execution_count": 53,
   "id": "3e50854f",
   "metadata": {},
   "outputs": [
    {
     "name": "stderr",
     "output_type": "stream",
     "text": [
      "WARNING:datasets.builder:Found cached dataset csv (C:/Users/om/.cache/huggingface/datasets/csv/cnn_dailymail-40e3f0d7b76c2bd9/3.0.0/eea64c71ca8b46dd3f537ed218fc9bf495d5707789152eb2764f5c78fa66d59d)\n"
     ]
    },
    {
     "data": {
      "application/vnd.jupyter.widget-view+json": {
       "model_id": "bd130e14d4d84aa4873e8e93d0f36cec",
       "version_major": 2,
       "version_minor": 0
      },
      "text/plain": [
       "  0%|          | 0/3 [00:00<?, ?it/s]"
      ]
     },
     "metadata": {},
     "output_type": "display_data"
    },
    {
     "name": "stdout",
     "output_type": "stream",
     "text": [
      "Features in cnn_dailymail : ['id', 'article', 'highlights']\n"
     ]
    }
   ],
   "source": [
    "from datasets import load_dataset\n",
    "\n",
    "dataset = load_dataset(\"cnn_dailymail\", version=\"3.0.0\")\n",
    "\n",
    "print(f\"Features in cnn_dailymail : {dataset['train'].column_names}\")"
   ]
  },
  {
   "cell_type": "code",
   "execution_count": 54,
   "id": "0c920dc2",
   "metadata": {},
   "outputs": [],
   "source": [
    "sample_text = dataset[\"train\"][1][\"article\"][:1000]\n",
    "\n",
    "# We'll collect the generated summaries of each model in a dictionary\n",
    "summaries = {}"
   ]
  },
  {
   "cell_type": "code",
   "execution_count": 69,
   "id": "605604f8",
   "metadata": {},
   "outputs": [],
   "source": [
    "def baseline_summary_three_sent(text):\n",
    "    return \"\\n\".join(sent_tokenize(text)[:3])"
   ]
  },
  {
   "cell_type": "code",
   "execution_count": 55,
   "id": "96ee1471",
   "metadata": {},
   "outputs": [
    {
     "data": {
      "application/vnd.jupyter.widget-view+json": {
       "model_id": "d25522bad5bf424b8d64b5aa16191ccc",
       "version_major": 2,
       "version_minor": 0
      },
      "text/plain": [
       "Downloading (…)lve/main/config.json: 0.00B [00:00, ?B/s]"
      ]
     },
     "metadata": {},
     "output_type": "display_data"
    },
    {
     "data": {
      "application/vnd.jupyter.widget-view+json": {
       "model_id": "032b6ed152ae40a485df2f5e720535f7",
       "version_major": 2,
       "version_minor": 0
      },
      "text/plain": [
       "Downloading model.safetensors:   0%|          | 0.00/242M [00:00<?, ?B/s]"
      ]
     },
     "metadata": {},
     "output_type": "display_data"
    },
    {
     "data": {
      "application/vnd.jupyter.widget-view+json": {
       "model_id": "02141c64d047444d948475355f3f6e06",
       "version_major": 2,
       "version_minor": 0
      },
      "text/plain": [
       "Downloading (…)neration_config.json:   0%|          | 0.00/147 [00:00<?, ?B/s]"
      ]
     },
     "metadata": {},
     "output_type": "display_data"
    },
    {
     "data": {
      "application/vnd.jupyter.widget-view+json": {
       "model_id": "4964383e375b4519be631a9849a15c17",
       "version_major": 2,
       "version_minor": 0
      },
      "text/plain": [
       "Downloading (…)okenizer_config.json: 0.00B [00:00, ?B/s]"
      ]
     },
     "metadata": {},
     "output_type": "display_data"
    },
    {
     "data": {
      "application/vnd.jupyter.widget-view+json": {
       "model_id": "e072f32221224c0db0461d4d6350ba59",
       "version_major": 2,
       "version_minor": 0
      },
      "text/plain": [
       "Downloading (…)ve/main/spiece.model:   0%|          | 0.00/792k [00:00<?, ?B/s]"
      ]
     },
     "metadata": {},
     "output_type": "display_data"
    },
    {
     "data": {
      "application/vnd.jupyter.widget-view+json": {
       "model_id": "4a86321ac5b844d9abba0ae1b664ae42",
       "version_major": 2,
       "version_minor": 0
      },
      "text/plain": [
       "Downloading (…)/main/tokenizer.json: 0.00B [00:00, ?B/s]"
      ]
     },
     "metadata": {},
     "output_type": "display_data"
    },
    {
     "data": {
      "text/plain": [
       "[{'summary_text': 'a criminal complaint accuses the 45-year-old of using his role as a police officer . he worked with a drug trafficking organization to plan a murder plot and get guns . the complaint alleges that he arranged to pay two assassins to kill rival drug dealers .'}]"
      ]
     },
     "execution_count": 55,
     "metadata": {},
     "output_type": "execute_result"
    }
   ],
   "source": [
    "pipe = pipeline('summarization', model = 't5-small' )\n",
    "\n",
    "pipe_out = pipe(sample_text)\n",
    "\n",
    "pipe_out"
   ]
  },
  {
   "cell_type": "code",
   "execution_count": 56,
   "id": "97aebd03",
   "metadata": {},
   "outputs": [],
   "source": [
    "summaries['t5'] = 'n'.join(sent_tokenize(pipe_out[0]['summary_text']))"
   ]
  },
  {
   "cell_type": "code",
   "execution_count": 57,
   "id": "6f55a8dd",
   "metadata": {},
   "outputs": [
    {
     "data": {
      "application/vnd.jupyter.widget-view+json": {
       "model_id": "dbd4bebbb08646eaa054667911cc0fb9",
       "version_major": 2,
       "version_minor": 0
      },
      "text/plain": [
       "Downloading (…)/main/tokenizer.json: 0.00B [00:00, ?B/s]"
      ]
     },
     "metadata": {},
     "output_type": "display_data"
    },
    {
     "data": {
      "text/plain": [
       "[{'summary_text': 'Ralph Mata was an internal affairs lieutenant for the Miami-Dade Police Department. Authorities allege that the 45-year-old longtime officer worked with a drug trafficking organization. A criminal complaint unsealed in U.S. District Court in New Jersey accuses Mata of using his role as a police officer.'}]"
      ]
     },
     "execution_count": 57,
     "metadata": {},
     "output_type": "execute_result"
    }
   ],
   "source": [
    "pipe = pipeline(\"summarization\", model=\"facebook/bart-large-cnn\")\n",
    "\n",
    "pipe_out = pipe(sample_text)\n",
    "\n",
    "pipe_out"
   ]
  },
  {
   "cell_type": "code",
   "execution_count": 58,
   "id": "9a0b4a3f",
   "metadata": {},
   "outputs": [
    {
     "data": {
      "text/plain": [
       "'Ralph Mata was an internal affairs lieutenant for the Miami-Dade Police Department.\\nAuthorities allege that the 45-year-old longtime officer worked with a drug trafficking organization.\\nA criminal complaint unsealed in U.S. District Court in New Jersey accuses Mata of using his role as a police officer.'"
      ]
     },
     "execution_count": 58,
     "metadata": {},
     "output_type": "execute_result"
    }
   ],
   "source": [
    "summaries[\"bart\"] = \"\\n\".join(sent_tokenize(pipe_out[0][\"summary_text\"]))"
   ]
  },
  {
   "cell_type": "code",
   "execution_count": 62,
   "id": "11e3a738",
   "metadata": {},
   "outputs": [
    {
     "name": "stdout",
     "output_type": "stream",
     "text": [
      "GROUND TRUTH\n",
      "Criminal complaint: Cop used his role to help cocaine traffickers .\n",
      "Ralph Mata, an internal affairs lieutenant, allegedly helped group get guns .\n",
      "He also arranged to pay two assassins in a murder plot, a complaint alleges .\n",
      "T5\n",
      "a criminal complaint accuses the 45-year-old of using his role as a police officer .nhe worked with a drug trafficking organization to plan a murder plot and get guns .nthe complaint alleges that he arranged to pay two assassins to kill rival drug dealers .\n",
      "BART\n",
      "Ralph Mata was an internal affairs lieutenant for the Miami-Dade Police Department.\n",
      "Authorities allege that the 45-year-old longtime officer worked with a drug trafficking organization.\n",
      "A criminal complaint unsealed in U.S. District Court in New Jersey accuses Mata of using his role as a police officer.\n"
     ]
    }
   ],
   "source": [
    "print(\"GROUND TRUTH\")\n",
    "\n",
    "print(dataset['train'][1]['highlights'])\n",
    "\n",
    "\n",
    "for model_name in summaries:\n",
    "    print(model_name.upper())\n",
    "    print(summaries[model_name])"
   ]
  },
  {
   "cell_type": "code",
   "execution_count": null,
   "id": "93888dda",
   "metadata": {},
   "outputs": [],
   "source": []
  },
  {
   "cell_type": "code",
   "execution_count": 15,
   "id": "5ac2d87d",
   "metadata": {},
   "outputs": [
    {
     "name": "stderr",
     "output_type": "stream",
     "text": [
      "D:\\PIYUSH_LAVANIYA_CMD\\Text Summarization\\textsummary\\lib\\site-packages\\ipykernel_launcher.py:3: FutureWarning: load_metric is deprecated and will be removed in the next major version of datasets. Use 'evaluate.load' instead, from the new library 🤗 Evaluate: https://huggingface.co/docs/evaluate\n",
      "  This is separate from the ipykernel package so we can avoid doing imports until\n"
     ]
    },
    {
     "data": {
      "application/vnd.jupyter.widget-view+json": {
       "model_id": "606ba4e6c41443da8daafa6d0373e3d0",
       "version_major": 2,
       "version_minor": 0
      },
      "text/plain": [
       "Downloading builder script:   0%|          | 0.00/2.85k [00:00<?, ?B/s]"
      ]
     },
     "metadata": {},
     "output_type": "display_data"
    }
   ],
   "source": [
    "from datasets import load_metric\n",
    "\n",
    "bleu_metric = load_metric(\"sacrebleu\")"
   ]
  },
  {
   "cell_type": "code",
   "execution_count": 64,
   "id": "ff040b14",
   "metadata": {},
   "outputs": [
    {
     "data": {
      "text/html": [
       "<div>\n",
       "<style scoped>\n",
       "    .dataframe tbody tr th:only-of-type {\n",
       "        vertical-align: middle;\n",
       "    }\n",
       "\n",
       "    .dataframe tbody tr th {\n",
       "        vertical-align: top;\n",
       "    }\n",
       "\n",
       "    .dataframe thead th {\n",
       "        text-align: right;\n",
       "    }\n",
       "</style>\n",
       "<table border=\"1\" class=\"dataframe\">\n",
       "  <thead>\n",
       "    <tr style=\"text-align: right;\">\n",
       "      <th></th>\n",
       "      <th>Value</th>\n",
       "    </tr>\n",
       "  </thead>\n",
       "  <tbody>\n",
       "    <tr>\n",
       "      <th>score</th>\n",
       "      <td>13.245629</td>\n",
       "    </tr>\n",
       "    <tr>\n",
       "      <th>counts</th>\n",
       "      <td>[20, 10, 5, 2]</td>\n",
       "    </tr>\n",
       "    <tr>\n",
       "      <th>totals</th>\n",
       "      <td>[52, 51, 50, 49]</td>\n",
       "    </tr>\n",
       "    <tr>\n",
       "      <th>precisions</th>\n",
       "      <td>[38.46153846153846, 19.607843137254903, 10.0, ...</td>\n",
       "    </tr>\n",
       "    <tr>\n",
       "      <th>bp</th>\n",
       "      <td>1.0</td>\n",
       "    </tr>\n",
       "    <tr>\n",
       "      <th>sys_len</th>\n",
       "      <td>52</td>\n",
       "    </tr>\n",
       "    <tr>\n",
       "      <th>ref_len</th>\n",
       "      <td>42</td>\n",
       "    </tr>\n",
       "    <tr>\n",
       "      <th>precision</th>\n",
       "      <td>[38.46, 19.61, 10.0, 4.08]</td>\n",
       "    </tr>\n",
       "  </tbody>\n",
       "</table>\n",
       "</div>"
      ],
      "text/plain": [
       "                                                        Value\n",
       "score                                               13.245629\n",
       "counts                                         [20, 10, 5, 2]\n",
       "totals                                       [52, 51, 50, 49]\n",
       "precisions  [38.46153846153846, 19.607843137254903, 10.0, ...\n",
       "bp                                                        1.0\n",
       "sys_len                                                    52\n",
       "ref_len                                                    42\n",
       "precision                          [38.46, 19.61, 10.0, 4.08]"
      ]
     },
     "execution_count": 64,
     "metadata": {},
     "output_type": "execute_result"
    }
   ],
   "source": [
    "bleu_metric.add(prediction = [summaries[\"t5\"]], reference = [dataset['train'][1]['highlights'] ])\n",
    "\n",
    "results = bleu_metric.compute(smooth_method = 'floor', smooth_value = 0 )\n",
    "\n",
    "results['precision'] = [np.round(p , 2) for p in results['precisions'] ]\n",
    "\n",
    "pd.DataFrame.from_dict(results, orient = 'index', columns = ['Value'] )"
   ]
  },
  {
   "cell_type": "code",
   "execution_count": 65,
   "id": "14453052",
   "metadata": {},
   "outputs": [],
   "source": [
    "rouge_metric = load_metric('rouge')"
   ]
  },
  {
   "cell_type": "code",
   "execution_count": 66,
   "id": "918096ff",
   "metadata": {},
   "outputs": [
    {
     "name": "stdout",
     "output_type": "stream",
     "text": [
      "rouge_dict  {'rouge1': 0.46913580246913583, 'rouge2': 0.25316455696202533, 'rougeL': 0.32098765432098764, 'rougeLsum': 0.32098765432098764}\n",
      "rouge_dict  {'rouge1': 0.30588235294117644, 'rouge2': 0.14457831325301204, 'rougeL': 0.2117647058823529, 'rougeLsum': 0.2823529411764706}\n"
     ]
    },
    {
     "data": {
      "text/html": [
       "<div>\n",
       "<style scoped>\n",
       "    .dataframe tbody tr th:only-of-type {\n",
       "        vertical-align: middle;\n",
       "    }\n",
       "\n",
       "    .dataframe tbody tr th {\n",
       "        vertical-align: top;\n",
       "    }\n",
       "\n",
       "    .dataframe thead th {\n",
       "        text-align: right;\n",
       "    }\n",
       "</style>\n",
       "<table border=\"1\" class=\"dataframe\">\n",
       "  <thead>\n",
       "    <tr style=\"text-align: right;\">\n",
       "      <th></th>\n",
       "      <th>rouge1</th>\n",
       "      <th>rouge2</th>\n",
       "      <th>rougeL</th>\n",
       "      <th>rougeLsum</th>\n",
       "    </tr>\n",
       "  </thead>\n",
       "  <tbody>\n",
       "    <tr>\n",
       "      <th>t5</th>\n",
       "      <td>0.469136</td>\n",
       "      <td>0.253165</td>\n",
       "      <td>0.320988</td>\n",
       "      <td>0.320988</td>\n",
       "    </tr>\n",
       "    <tr>\n",
       "      <th>bart</th>\n",
       "      <td>0.305882</td>\n",
       "      <td>0.144578</td>\n",
       "      <td>0.211765</td>\n",
       "      <td>0.282353</td>\n",
       "    </tr>\n",
       "  </tbody>\n",
       "</table>\n",
       "</div>"
      ],
      "text/plain": [
       "        rouge1    rouge2    rougeL  rougeLsum\n",
       "t5    0.469136  0.253165  0.320988   0.320988\n",
       "bart  0.305882  0.144578  0.211765   0.282353"
      ]
     },
     "execution_count": 66,
     "metadata": {},
     "output_type": "execute_result"
    }
   ],
   "source": [
    "rouge_names = [\"rouge1\", \"rouge2\", \"rougeL\", \"rougeLsum\"]\n",
    "\n",
    "reference = dataset['train'][1]['highlights']\n",
    "\n",
    "records = []\n",
    "\n",
    "for model_name in summaries:\n",
    "    rouge_metric.add(prediction = summaries[model_name], reference = reference )\n",
    "    score = rouge_metric.compute()\n",
    "    rouge_dict = dict((rn, score[rn].mid.fmeasure ) for rn in rouge_names )\n",
    "    print('rouge_dict ', rouge_dict )\n",
    "    records.append(rouge_dict)\n",
    "\n",
    "pd.DataFrame.from_records(records, index = summaries.keys() )"
   ]
  },
  {
   "cell_type": "code",
   "execution_count": 67,
   "id": "e0d583ab",
   "metadata": {},
   "outputs": [],
   "source": [
    "def calculate_metric_on_baseline_test_ds(dataset, metric, column_text = 'article', column_summary = 'highlights' ):\n",
    "    \"\"\"\n",
    "    This function calculates a specified metric on a baseline test dataset for a Natural Language Processing (NLP) task.\n",
    "    It assumes the task is a text summarization task, where the goal is to generate a summary (e.g., highlights) from a text (e.g., article).\n",
    "\n",
    "    Parameters:\n",
    "    dataset (pandas.DataFrame): The test dataset. It should contain a column for the text and a column for the true summary.\n",
    "    metric (datasets.Metric): The metric to calculate. This should be a metric object from the Hugging Face datasets library.\n",
    "    column_text (str, optional): The name of the column in the dataset that contains the text. Defaults to 'article'.\n",
    "    column_summary (str, optional): The name of the column in the dataset that contains the true summary. Defaults to 'highlights'.\n",
    "\n",
    "    Returns:\n",
    "    score (float): The calculated score of the metric on the test dataset.\n",
    "    \"\"\"\n",
    "    summaries = [baseline_summary_three_sent(text) for text in dataset[column_text] ]\n",
    "\n",
    "    metric.add_batch(predictions = summaries, references = dataset[column_summary] )\n",
    "\n",
    "    score = metric.compute()\n",
    "    return score"
   ]
  },
  {
   "cell_type": "code",
   "execution_count": 71,
   "id": "7485a9a3",
   "metadata": {},
   "outputs": [
    {
     "data": {
      "text/html": [
       "<div>\n",
       "<style scoped>\n",
       "    .dataframe tbody tr th:only-of-type {\n",
       "        vertical-align: middle;\n",
       "    }\n",
       "\n",
       "    .dataframe tbody tr th {\n",
       "        vertical-align: top;\n",
       "    }\n",
       "\n",
       "    .dataframe thead th {\n",
       "        text-align: right;\n",
       "    }\n",
       "</style>\n",
       "<table border=\"1\" class=\"dataframe\">\n",
       "  <thead>\n",
       "    <tr style=\"text-align: right;\">\n",
       "      <th></th>\n",
       "      <th>rouge1</th>\n",
       "      <th>rouge2</th>\n",
       "      <th>rougeL</th>\n",
       "      <th>rougeLsum</th>\n",
       "    </tr>\n",
       "  </thead>\n",
       "  <tbody>\n",
       "    <tr>\n",
       "      <th>baseline</th>\n",
       "      <td>0.390057</td>\n",
       "      <td>0.171891</td>\n",
       "      <td>0.245931</td>\n",
       "      <td>0.356057</td>\n",
       "    </tr>\n",
       "  </tbody>\n",
       "</table>\n",
       "</div>"
      ],
      "text/plain": [
       "            rouge1    rouge2    rougeL  rougeLsum\n",
       "baseline  0.390057  0.171891  0.245931   0.356057"
      ]
     },
     "execution_count": 71,
     "metadata": {},
     "output_type": "execute_result"
    }
   ],
   "source": [
    "test_sampled = dataset['test'].shuffle(seed = 42).select(range(1000))\n",
    "\n",
    "score = calculate_metric_on_baseline_test_ds(test_sampled, rouge_metric )\n",
    "\n",
    "rouge_dict = dict((rn, score[rn].mid.fmeasure ) for rn in rouge_names )\n",
    "\n",
    "pd.DataFrame.from_dict(rouge_dict, orient = 'index' , columns = ['baseline'] ).T"
   ]
  },
  {
   "cell_type": "code",
   "execution_count": null,
   "id": "2d287689",
   "metadata": {},
   "outputs": [],
   "source": []
  }
 ],
 "metadata": {
  "kernelspec": {
   "display_name": "textsummary",
   "language": "python",
   "name": "textsummary"
  },
  "language_info": {
   "codemirror_mode": {
    "name": "ipython",
    "version": 3
   },
   "file_extension": ".py",
   "mimetype": "text/x-python",
   "name": "python",
   "nbconvert_exporter": "python",
   "pygments_lexer": "ipython3",
   "version": "3.7.9"
  }
 },
 "nbformat": 4,
 "nbformat_minor": 5
}
